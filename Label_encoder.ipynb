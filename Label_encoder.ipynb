{
  "nbformat": 4,
  "nbformat_minor": 0,
  "metadata": {
    "colab": {
      "provenance": [],
      "authorship_tag": "ABX9TyMr1AgMc4v0nh8UsAFcrR1n",
      "include_colab_link": true
    },
    "kernelspec": {
      "name": "python3",
      "display_name": "Python 3"
    },
    "language_info": {
      "name": "python"
    }
  },
  "cells": [
    {
      "cell_type": "markdown",
      "metadata": {
        "id": "view-in-github",
        "colab_type": "text"
      },
      "source": [
        "<a href=\"https://colab.research.google.com/github/Saicharan1818/theta/blob/main/Label_encoder.ipynb\" target=\"_parent\"><img src=\"https://colab.research.google.com/assets/colab-badge.svg\" alt=\"Open In Colab\"/></a>"
      ]
    },
    {
      "cell_type": "code",
      "execution_count": 1,
      "metadata": {
        "colab": {
          "base_uri": "https://localhost:8080/"
        },
        "id": "Te2LjxSctDzv",
        "outputId": "92d45e12-d6f3-45de-8041-5435ddc01134"
      },
      "outputs": [
        {
          "output_type": "stream",
          "name": "stdout",
          "text": [
            "original data\n",
            "   customer_id    ranks  fruits\n",
            "0            1     good   apple\n",
            "1            2  average  banana\n",
            "2            3      bad  orange\n",
            "3            4     good   apple\n",
            "4            5  average  banana\n",
            "\n",
            "label encoded data\n",
            "   customer_id    ranks  fruits  ranks_encoded  fruits_encoded\n",
            "0            1     good   apple              2               0\n",
            "1            2  average  banana              0               1\n",
            "2            3      bad  orange              1               2\n",
            "3            4     good   apple              2               0\n",
            "4            5  average  banana              0               1\n"
          ]
        }
      ],
      "source": [
        "#label encoder\n",
        "import pandas as pd\n",
        "from sklearn.preprocessing import LabelEncoder\n",
        "\n",
        "data = {\n",
        "    \"customer_id\" : [1,2,3,4,5],\n",
        "    \"ranks\": [\"good\", \"average\", \"bad\", \"good\", \"average\"],\n",
        "    \"fruits\": [\"apple\", \"banana\", \"orange\", \"apple\", \"banana\"]\n",
        "}\n",
        "df=pd.DataFrame(data)\n",
        "print(\"original data\")\n",
        "print(df)\n",
        "\n",
        "#apply the label encoder to ranks and fruits\n",
        "encoder = LabelEncoder()\n",
        "df[\"ranks_encoded\"] = encoder.fit_transform(df[\"ranks\"])\n",
        "df[\"fruits_encoded\"] = encoder.fit_transform(df[\"fruits\"])\n",
        "print(\"\\nlabel encoded data\")\n",
        "print(df)"
      ]
    }
  ]
}