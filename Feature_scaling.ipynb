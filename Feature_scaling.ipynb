{
  "nbformat": 4,
  "nbformat_minor": 0,
  "metadata": {
    "colab": {
      "provenance": [],
      "authorship_tag": "ABX9TyPvR+H1yzI43xcm8+xHHYuN",
      "include_colab_link": true
    },
    "kernelspec": {
      "name": "python3",
      "display_name": "Python 3"
    },
    "language_info": {
      "name": "python"
    }
  },
  "cells": [
    {
      "cell_type": "markdown",
      "metadata": {
        "id": "view-in-github",
        "colab_type": "text"
      },
      "source": [
        "<a href=\"https://colab.research.google.com/github/Saicharan1818/theta/blob/main/Feature_scaling.ipynb\" target=\"_parent\"><img src=\"https://colab.research.google.com/assets/colab-badge.svg\" alt=\"Open In Colab\"/></a>"
      ]
    },
    {
      "cell_type": "code",
      "execution_count": 4,
      "metadata": {
        "colab": {
          "base_uri": "https://localhost:8080/"
        },
        "id": "Hpez5PoPiRHX",
        "outputId": "9a57f383-25a3-4c34-bcaa-e6c1269a6cb0"
      },
      "outputs": [
        {
          "output_type": "stream",
          "name": "stdout",
          "text": [
            "Original DataFrame: \n",
            "   age  height  weight\n",
            "0   25     150      50\n",
            "1   30     160      60\n",
            "2   35     170      70\n",
            "3   40     180      80\n",
            "4   45     190      90\n",
            "\n",
            "Normalized DataFrame (scaled to range [0, 1]):\n",
            "    age  height  weight\n",
            "0  0.00    0.00    0.00\n",
            "1  0.25    0.25    0.25\n",
            "2  0.50    0.50    0.50\n",
            "3  0.75    0.75    0.75\n",
            "4  1.00    1.00    1.00\n"
          ]
        }
      ],
      "source": [
        "##normalization\n",
        "#with min max scaler\n",
        "import pandas as pd\n",
        "from sklearn.preprocessing import MinMaxScaler\n",
        "\n",
        "#Sample dataset with multiple features\n",
        "data = {\n",
        "    \"age\": [25, 30, 35, 40, 45],\n",
        "    \"height\":[150, 160, 170, 180,190],\n",
        "    \"weight\": [50, 60, 70, 80, 90]\n",
        "}\n",
        "df = pd.DataFrame(data)\n",
        "\n",
        "print(\"Original DataFrame: \")\n",
        "print(df)\n",
        "\n",
        "scaler = MinMaxScaler()\n",
        "\n",
        "normalized_data = scaler.fit_transform(df)\n",
        "\n",
        "normalized_df = pd.DataFrame(normalized_data, columns=df.columns)\n",
        "\n",
        "print(\"\\nNormalized DataFrame (scaled to range [0, 1]):\")\n",
        "print(normalized_df)"
      ]
    }
  ]
}