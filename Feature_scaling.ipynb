{
  "nbformat": 4,
  "nbformat_minor": 0,
  "metadata": {
    "colab": {
      "provenance": [],
      "authorship_tag": "ABX9TyMjNYczyVTA71DQ3NIsOp8i",
      "include_colab_link": true
    },
    "kernelspec": {
      "name": "python3",
      "display_name": "Python 3"
    },
    "language_info": {
      "name": "python"
    }
  },
  "cells": [
    {
      "cell_type": "markdown",
      "metadata": {
        "id": "view-in-github",
        "colab_type": "text"
      },
      "source": [
        "<a href=\"https://colab.research.google.com/github/Saicharan1818/theta/blob/main/Feature_scaling.ipynb\" target=\"_parent\"><img src=\"https://colab.research.google.com/assets/colab-badge.svg\" alt=\"Open In Colab\"/></a>"
      ]
    },
    {
      "cell_type": "code",
      "execution_count": 5,
      "metadata": {
        "colab": {
          "base_uri": "https://localhost:8080/"
        },
        "id": "WDq24ExkpSE7",
        "outputId": "bf066492-9299-42f2-ab61-ed1388764879"
      },
      "outputs": [
        {
          "output_type": "stream",
          "name": "stdout",
          "text": [
            "original data\n",
            "   customer_id  gender country  fruits\n",
            "0            1    male     USA   apple\n",
            "1            2  female  Canada  banana\n",
            "2            3    male     USA  orange\n",
            "3            4  female  Canada   apple\n",
            "4            5    male      UK  banana\n",
            "\n",
            "encoded data\n",
            "   customer_id  gender_female  gender_male  country_Canada  country_UK  \\\n",
            "0            1            0.0          1.0             0.0         0.0   \n",
            "1            2            1.0          0.0             1.0         0.0   \n",
            "2            3            0.0          1.0             0.0         0.0   \n",
            "3            4            1.0          0.0             1.0         0.0   \n",
            "4            5            0.0          1.0             0.0         1.0   \n",
            "\n",
            "   country_USA  fruits_apple  fruits_banana  fruits_orange  \n",
            "0          1.0           1.0            0.0            0.0  \n",
            "1          0.0           0.0            1.0            0.0  \n",
            "2          1.0           0.0            0.0            1.0  \n",
            "3          0.0           1.0            0.0            0.0  \n",
            "4          0.0           0.0            1.0            0.0  \n"
          ]
        }
      ],
      "source": [
        "import pandas as pd\n",
        "from sklearn.preprocessing import OneHotEncoder\n",
        "\n",
        "#sample dataset\n",
        "data = {\n",
        "    \"customer_id\": [1, 2, 3, 4, 5],\n",
        "    \"gender\": [\"male\", \"female\", \"male\", \"female\", \"male\"],\n",
        "    \"country\": [\"USA\", \"Canada\", \"USA\", \"Canada\", \"UK\"],\n",
        "    \"fruits\": [\"apple\", \"banana\", \"orange\", \"apple\", \"banana\"]\n",
        "}\n",
        "df = pd.DataFrame(data)\n",
        "print(\"original data\")\n",
        "print(df)\n",
        "\n",
        "#apply onehotencoder\n",
        "encoder = OneHotEncoder(sparse_output=False)\n",
        "encoded_data = encoder.fit_transform(df[[\"gender\", \"country\",\"fruits\"]])\n",
        "encoded_df = pd.DataFrame(encoded_data, columns=encoder.get_feature_names_out([\"gender\", \"country\",\"fruits\"]))\n",
        "df = pd.concat([df, encoded_df], axis=1)\n",
        "df.drop([\"gender\", \"country\",\"fruits\"], axis=1, inplace=True)\n",
        "print(\"\\nencoded data\")\n",
        "print(df)"
      ]
    },
    {
      "cell_type": "code",
      "source": [
        "import pandas as pd\n",
        "from sklearn.preprocessing import OneHotEncoder\n",
        "\n",
        "#sample dataset\n",
        "data = {\n",
        "    \"customer_id\": [1, 2, 3, 4, 5],\n",
        "    \"gender\": [\"male\", \"female\", \"male\", \"female\", \"male\"],\n",
        "    \"country\": [\"USA\", \"Canada\", \"USA\", \"Canada\", \"UK\"],\n",
        "    \"fruits\": [\"apple\", \"banana\", \"orange\", \"kiwi\", \"banana\"]\n",
        "}\n",
        "df = pd.DataFrame(data)\n",
        "print(\"original data\")\n",
        "print(df)\n",
        "\n",
        "#apply onehotencoder\n",
        "encoder = OneHotEncoder(sparse_output=False)\n",
        "encoded_data = encoder.fit_transform(df[[\"gender\", \"country\",\"fruits\"]])\n",
        "encoded_df = pd.DataFrame(encoded_data, columns=encoder.get_feature_names_out([\"gender\", \"country\",\"fruits\"]))\n",
        "df = pd.concat([df, encoded_df], axis=1)\n",
        "df.drop([\"gender\", \"country\",\"fruits\"], axis=1, inplace=True)\n",
        "print(\"\\nencoded data\")\n",
        "print(df)"
      ],
      "metadata": {
        "colab": {
          "base_uri": "https://localhost:8080/"
        },
        "id": "h-Sxus92rONN",
        "outputId": "24c74da9-ef6d-4034-d7fa-bbb39dbb8435"
      },
      "execution_count": 3,
      "outputs": [
        {
          "output_type": "stream",
          "name": "stdout",
          "text": [
            "original data\n",
            "   customer_id  gender country  fruits\n",
            "0            1    male     USA   apple\n",
            "1            2  female  Canada  banana\n",
            "2            3    male     USA  orange\n",
            "3            4  female  Canada    kiwi\n",
            "4            5    male      UK  banana\n",
            "/nencoded data\n",
            "   customer_id  gender_female  gender_male  country_Canada  country_UK  \\\n",
            "0            1            0.0          1.0             0.0         0.0   \n",
            "1            2            1.0          0.0             1.0         0.0   \n",
            "2            3            0.0          1.0             0.0         0.0   \n",
            "3            4            1.0          0.0             1.0         0.0   \n",
            "4            5            0.0          1.0             0.0         1.0   \n",
            "\n",
            "   country_USA  fruits_apple  fruits_banana  fruits_kiwi  fruits_orange  \n",
            "0          1.0           1.0            0.0          0.0            0.0  \n",
            "1          0.0           0.0            1.0          0.0            0.0  \n",
            "2          1.0           0.0            0.0          0.0            1.0  \n",
            "3          0.0           0.0            0.0          1.0            0.0  \n",
            "4          0.0           0.0            1.0          0.0            0.0  \n"
          ]
        }
      ]
    },
    {
      "cell_type": "code",
      "source": [],
      "metadata": {
        "id": "qzeXNXOxroek"
      },
      "execution_count": 5,
      "outputs": []
    }
  ]
}