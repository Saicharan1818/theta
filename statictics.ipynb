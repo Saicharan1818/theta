{
  "nbformat": 4,
  "nbformat_minor": 0,
  "metadata": {
    "colab": {
      "provenance": [],
      "authorship_tag": "ABX9TyPe8MBOB4sSSOqFhWfA4rGZ",
      "include_colab_link": true
    },
    "kernelspec": {
      "name": "python3",
      "display_name": "Python 3"
    },
    "language_info": {
      "name": "python"
    }
  },
  "cells": [
    {
      "cell_type": "markdown",
      "metadata": {
        "id": "view-in-github",
        "colab_type": "text"
      },
      "source": [
        "<a href=\"https://colab.research.google.com/github/Saicharan1818/theta/blob/main/statictics.ipynb\" target=\"_parent\"><img src=\"https://colab.research.google.com/assets/colab-badge.svg\" alt=\"Open In Colab\"/></a>"
      ]
    },
    {
      "cell_type": "code",
      "execution_count": 1,
      "metadata": {
        "colab": {
          "base_uri": "https://localhost:8080/"
        },
        "id": "RZUbVQTxdC-p",
        "outputId": "46a12757-da84-4da4-c213-83b029d28f5c"
      },
      "outputs": [
        {
          "output_type": "stream",
          "name": "stdout",
          "text": [
            "Variance of stock prices: 6.233333333333333\n",
            "Variance of stock prices (using NumPy): 6.2333333333333325\n"
          ]
        }
      ],
      "source": [
        "import statistics\n",
        "import numpy as np\n",
        "stock_prices = [100,102,98,105,101,97,99,103,100,98]\n",
        "\n",
        "variance = statistics.variance(stock_prices)\n",
        "print(f\"Variance of stock prices: {variance}\")\n",
        "\n",
        "numpy_variance = np.var(stock_prices,ddof=1)\n",
        "print(f\"Variance of stock prices (using NumPy): {numpy_variance}\")"
      ]
    }
  ]
}