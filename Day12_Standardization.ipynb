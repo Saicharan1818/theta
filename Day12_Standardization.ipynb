{
  "nbformat": 4,
  "nbformat_minor": 0,
  "metadata": {
    "colab": {
      "provenance": [],
      "authorship_tag": "ABX9TyMVPCpbQFADqHWg3/lLJeRi",
      "include_colab_link": true
    },
    "kernelspec": {
      "name": "python3",
      "display_name": "Python 3"
    },
    "language_info": {
      "name": "python"
    }
  },
  "cells": [
    {
      "cell_type": "markdown",
      "metadata": {
        "id": "view-in-github",
        "colab_type": "text"
      },
      "source": [
        "<a href=\"https://colab.research.google.com/github/Saicharan1818/theta/blob/main/Day12_Standardization.ipynb\" target=\"_parent\"><img src=\"https://colab.research.google.com/assets/colab-badge.svg\" alt=\"Open In Colab\"/></a>"
      ]
    },
    {
      "cell_type": "code",
      "execution_count": 2,
      "metadata": {
        "colab": {
          "base_uri": "https://localhost:8080/"
        },
        "id": "U00CaCNuogr1",
        "outputId": "3791a125-9ff5-49dc-c91c-67d973988e90"
      },
      "outputs": [
        {
          "output_type": "stream",
          "name": "stdout",
          "text": [
            "original dataframe\n",
            "   Age  height  weight\n",
            "0   25     150      50\n",
            "1   30     160      60\n",
            "2   35     170      70\n",
            "3   40     180      80\n",
            "4   45     190      90\n",
            "\n",
            "normalized dataframe (scaled to range [0,1]):\n",
            "    Age  height  weight\n",
            "0  0.00    0.00    0.00\n",
            "1  0.25    0.25    0.25\n",
            "2  0.50    0.50    0.50\n",
            "3  0.75    0.75    0.75\n",
            "4  1.00    1.00    1.00\n",
            "\n",
            "standardized dataframe:\n",
            "        Age    height    weight\n",
            "0 -1.414214 -1.414214 -1.414214\n",
            "1 -0.707107 -0.707107 -0.707107\n",
            "2  0.000000  0.000000  0.000000\n",
            "3  0.707107  0.707107  0.707107\n",
            "4  1.414214  1.414214  1.414214\n"
          ]
        }
      ],
      "source": [
        "import pandas as pd\n",
        "from sklearn.preprocessing import MinMaxScaler\n",
        "\n",
        "data = {\n",
        "    'Age': [25, 30, 35, 40, 45],\n",
        "    \"height\": [150, 160, 170, 180, 190],\n",
        "    \"weight\" : [50, 60, 70, 80, 90]\n",
        "}\n",
        "\n",
        "df = pd.DataFrame(data)\n",
        "print(\"original dataframe\")\n",
        "print(df)\n",
        "scaler = MinMaxScaler()\n",
        "#normalize the dataset\n",
        "\n",
        "normalized_data= scaler.fit_transform(df)\n",
        "\n",
        "normalized_df = pd.DataFrame(normalized_data, columns=df.columns)\n",
        "print(\"\\nnormalized dataframe (scaled to range [0,1]):\")\n",
        "print(normalized_df)\n",
        "\n",
        "\n",
        "#standardization\n",
        "from sklearn.preprocessing import StandardScaler\n",
        "\n",
        "scaler = StandardScaler()\n",
        "standardized_data = scaler.fit_transform(df)\n",
        "standardized_df = pd.DataFrame(standardized_data, columns=df.columns)\n",
        "print(\"\\nstandardized dataframe:\")\n",
        "print(standardized_df)\n"
      ]
    }
  ]
}